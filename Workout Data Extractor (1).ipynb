{
 "cells": [
  {
   "cell_type": "code",
   "execution_count": 1,
   "id": "6f6769f3",
   "metadata": {},
   "outputs": [],
   "source": [
    "import os\n",
    "import pandas as pd\n",
    "import matplotlib.pyplot as plt\n",
    "import numpy as np\n",
    "import matplotlib.dates as mdates\n",
    "import warnings\n",
    "warnings.filterwarnings('ignore')"
   ]
  },
  {
   "cell_type": "markdown",
   "id": "ba6969d4",
   "metadata": {},
   "source": [
    "## Create Initial Dataframe"
   ]
  },
  {
   "cell_type": "markdown",
   "id": "5f9315c7",
   "metadata": {},
   "source": [
    "Traverses each file in the folder and converts each text file (each workout) into a row in the dataframe. Extracts the date of the workout from the file metadata and converts it into a pandas datetime object. Then, sorts each workout in chronological order.\n",
    "\n",
    "The data cleaning cell removes some non-workout files that I used to plan out my splits and notes for non-weightlifting workouts."
   ]
  },
  {
   "cell_type": "code",
   "execution_count": 8,
   "id": "33970f5b",
   "metadata": {},
   "outputs": [],
   "source": [
    "path = r\"C:\\Users\\blake\\OneDrive\\Desktop\\WorkoutData\\iCloud Notes\\Workouts\""
   ]
  },
  {
   "cell_type": "code",
   "execution_count": 9,
   "id": "47960af0",
   "metadata": {},
   "outputs": [],
   "source": [
    "# List to store file content\n",
    "data = []\n",
    "\n",
    "# Traverse through all subfolders and text files\n",
    "for root, dirs, files in os.walk(path):\n",
    "    for file in files:\n",
    "        if file.endswith('.txt'):  # Ensure it only reads text files\n",
    "            file_path = os.path.join(root, file)\n",
    "            \n",
    "            # Read the content of the text file\n",
    "            with open(file_path, 'r',encoding=\"utf8\") as f:\n",
    "                content = f.readlines()\n",
    "\n",
    "            folder_name = os.path.basename(root)\n",
    "            file_name = file\n",
    "            data.append({'Folder': folder_name, 'File': file_name, 'Content': content})\n",
    "df = pd.DataFrame(data)"
   ]
  },
  {
   "cell_type": "code",
   "execution_count": 10,
   "id": "94561af9",
   "metadata": {},
   "outputs": [],
   "source": [
    "# Extract dates\n",
    "df['Extract'] = df['File'].apply(lambda x: x[-24:-5].replace('_',':'))\n",
    "df['Date'] = pd.to_datetime(df['Extract'],utc=True)\n",
    "\n",
    "# Convert to local timezone\n",
    "df['Date'] = df['Date'].dt.tz_convert('US/Pacific') \n",
    "df['Date'] = df['Date'].apply(lambda x: x.replace(tzinfo=None))\n",
    "\n",
    "# Add ordinal date for numerical calculations\n",
    "df[\"Date_ordinal\"] = df['Date'].apply(lambda x: x.toordinal())\n",
    "\n",
    "# Sort by date\n",
    "df = df.sort_values('Date')"
   ]
  },
  {
   "cell_type": "code",
   "execution_count": 11,
   "id": "8e40417d",
   "metadata": {},
   "outputs": [],
   "source": [
    "### DATA CLEANING\n",
    "\n",
    "# Remove first three entries\n",
    "df = df.iloc[3:]\n",
    "\n",
    "# Remove split planning notes\n",
    "df = df.drop([380,276,295,48])\n",
    "\n",
    "# Remove erroneous days\n",
    "df = df.drop([203, 81, 112, 201])\n",
    "\n",
    "# Remove useless columns\n",
    "df.drop([\"File\",\"Extract\"], axis=1, inplace=True)"
   ]
  },
  {
   "cell_type": "markdown",
   "id": "ff74223d",
   "metadata": {},
   "source": [
    "## Extract the One Rep Maximums"
   ]
  },
  {
   "cell_type": "code",
   "execution_count": 12,
   "id": "3e165960",
   "metadata": {},
   "outputs": [],
   "source": [
    "### Lifts examined\n",
    "exercises = [\"Squat\",\"Bench\",\"Deadlift\",\"Overhead press\"]\n",
    "for i in exercises:\n",
    "    df[i+'_ORM']=0"
   ]
  },
  {
   "cell_type": "code",
   "execution_count": 13,
   "id": "deecb71f",
   "metadata": {},
   "outputs": [],
   "source": [
    "def get_clean(lift,content):\n",
    "    \"\"\"Takes a lift (str) and workout content (str). Returns a list of strings \n",
    "    corresponding to sets done of that particular lift. \"\"\"\n",
    "    start_index = None\n",
    "    end_index = None\n",
    "    for i, item in enumerate(content):\n",
    "        if lift in item:\n",
    "            #print(lift)\n",
    "            start_index = i\n",
    "        \n",
    "        elif item == \"\\n\" and start_index != None and i != start_index + 1:\n",
    "            \n",
    "            ## check to make sure it's not a linebreak after a comment at start of lift\n",
    "            ## code: skip this if there wasn't a #x# lift in the last line\n",
    "            if not re.search(r'\\dx\\d',content[i-1]+content[i-2]):\n",
    "                continue\n",
    "                \n",
    "            end_index = i\n",
    "            break\n",
    "            \n",
    "    ## handle not finding lift\n",
    "    if start_index == None:\n",
    "        return None\n",
    "    ## removes front/back whitespaces, \n",
    "    clean = [i.strip() for i in content[start_index+1:end_index]]\n",
    "    return clean"
   ]
  },
  {
   "cell_type": "code",
   "execution_count": 14,
   "id": "e43e3781",
   "metadata": {},
   "outputs": [],
   "source": [
    "import re\n",
    "\"\"\"Takes a single line (str) of a workout textfile and extracts the weight (int) and repetitions (int). \"\"\"\n",
    "def extract_weight_reps(line):\n",
    "    '''\n",
    "    TEST CASES:\n",
    "    \n",
    "    >>> extract_weight_reps(\"135x5\")\n",
    "    (135, 5)\n",
    "    \n",
    "    >>> extract_weight_reps(\"135 x 5\")\n",
    "    (135, 5)\n",
    "    \n",
    "    >>> extract_weight_reps(\"135x5.75\")\n",
    "    (135, 6)\n",
    "    \n",
    "    >>> extract_weight_reps(\"44.75x5\")\n",
    "    (45, 5)\n",
    "    \n",
    "    >>> extract_weight_reps(\"175x7 (last time 165x8)\")\n",
    "    (175, 7)\n",
    "    \n",
    "    >>> extract_weight_reps(\"185x2 F on 3\")\n",
    "    (185, 2)\n",
    "    \n",
    "    >>> extract_weight_reps(\"SS 25x7\")\n",
    "    (25, 7)\n",
    "    \n",
    "    >>> extract_weight_reps(\"70x2+ 45x2 Yikes\")\n",
    "    (70, 2)\n",
    "    \n",
    "    >>> extract_weight_reps(\"120x5 - 90x4\")\n",
    "    (120, 5)\n",
    "    \n",
    "    >>> extract_weight_reps(\"120x5 - 90x4 - 30x5\")\n",
    "    (120, 5)\n",
    "    \n",
    "    >>> extract_weight_reps(\"135x2.5 (not full 3rd)\")\n",
    "    (135, 2)\n",
    "    \n",
    "    >>> extract_weight_reps(\"200x1 (fail on 2)\")\n",
    "    (200, 1)\n",
    "    \n",
    "    >>> extract_weight_reps(\"5 set 95\")\n",
    "    (0, 0)\n",
    "    \n",
    "    \n",
    "    >>> extract_weight_reps(\"205 x F\")\n",
    "    (0, 0)\n",
    "    \n",
    "    '''\n",
    "    weight = 1\n",
    "    reps = 1\n",
    "    \n",
    "    split = line.split('x')\n",
    "    \n",
    "    # no 'x' case\n",
    "    if len(split) == 1:\n",
    "        return 0, 0\n",
    "    \n",
    "    # simple case (should handle dropsets too?)\n",
    "    if len(split) > 1:\n",
    "        a = split[0].strip()\n",
    "        b = split[1].strip()\n",
    "        w = re.findall(r\"[\\d,.]{1,}$\",a)\n",
    "        r = re.findall(r\"^[\\d,.]{1,}\",b)\n",
    "        \n",
    "        if len(w) == 0 or len(r) == 0:\n",
    "            return 0, 0\n",
    "        \n",
    "        weight = round(float(w[0]))\n",
    "        reps = round(float(r[0]))\n",
    "    return weight, reps"
   ]
  },
  {
   "cell_type": "code",
   "execution_count": 15,
   "id": "c062fee9",
   "metadata": {},
   "outputs": [
    {
     "data": {
      "text/plain": [
       "TestResults(failed=0, attempted=14)"
      ]
     },
     "execution_count": 15,
     "metadata": {},
     "output_type": "execute_result"
    }
   ],
   "source": [
    "### TESTING\n",
    "import doctest\n",
    "doctest.testmod(verbose=False)"
   ]
  },
  {
   "cell_type": "code",
   "execution_count": 18,
   "id": "95c352d6",
   "metadata": {},
   "outputs": [],
   "source": [
    "def find_ORM(lift, content):\n",
    "    \"\"\"Takes a lift (str) and a single workout's content(str). \n",
    "    Returns the highest ORM done for that lift in that workout. \"\"\"\n",
    "    \n",
    "    #extract sets done for a lift\n",
    "    clean = get_clean(lift,content)\n",
    "    \n",
    "    ## handle not finding any sets\n",
    "    if clean == None:\n",
    "        return None\n",
    "        \n",
    "    top = 0\n",
    "    for i in clean:\n",
    "        weight, reps = extract_weight_reps(i)\n",
    "        \n",
    "        ### except high rep sets\n",
    "        if reps > 15:\n",
    "            continue\n",
    "\n",
    "        ## formula: weight × (36 / (37 - reps))\n",
    "        ORM = weight * (36/(37 - reps))\n",
    "        if ORM > top:\n",
    "            top = ORM\n",
    "    return top"
   ]
  },
  {
   "cell_type": "code",
   "execution_count": 19,
   "id": "e3e7094c",
   "metadata": {},
   "outputs": [],
   "source": [
    "### fill the ORMs\n",
    "\n",
    "for index, row in df.iterrows():\n",
    "    for i in exercises:\n",
    "        ORM = find_ORM(i, row['Content'])\n",
    "        setit = i + '_ORM'\n",
    "        df.at[index,setit] = ORM"
   ]
  },
  {
   "cell_type": "markdown",
   "id": "082da71b",
   "metadata": {},
   "source": [
    "## Add Splits"
   ]
  },
  {
   "cell_type": "markdown",
   "id": "ff477fec",
   "metadata": {},
   "source": [
    "Labels each row (workout) as a particular workout split. This will be useful for later analysis."
   ]
  },
  {
   "cell_type": "code",
   "execution_count": 21,
   "id": "b5dcb52f",
   "metadata": {},
   "outputs": [],
   "source": [
    "#### Define the date ranges for the different splits manually\n",
    "splits = {\n",
    "\"fullbody1\" : (pd.to_datetime('1/27/2022'), pd.to_datetime('2/8/2023')),\n",
    "\"PPL1\" : (pd.to_datetime('2/9/2023'), pd.to_datetime('4/6/2023')),\n",
    "\"BALC\" : (pd.to_datetime('4/7/2023'), pd.to_datetime('3/17/2024')),\n",
    "\"PPL2\" : (pd.to_datetime('3/18/2024'), pd.to_datetime('8/25/2024')),\n",
    "\"Arnold\" : (pd.to_datetime('8/26/2024'), pd.to_datetime('9/15/2024'))}"
   ]
  },
  {
   "cell_type": "code",
   "execution_count": 22,
   "id": "8211a495",
   "metadata": {},
   "outputs": [],
   "source": [
    "### Add the splits to each row of the dataset\n",
    "splits_index = pd.IntervalIndex.from_tuples(splits.values())\n",
    "split_names = list(splits.keys())\n",
    "df['Split'] = splits_index.get_indexer(df['Date'])\n",
    "df['Split'] = df['Split'].map(lambda i: split_names[i] if i != -1 else 'Out of Range')"
   ]
  },
  {
   "cell_type": "markdown",
   "id": "bdf86a30",
   "metadata": {},
   "source": [
    "## Export"
   ]
  },
  {
   "cell_type": "code",
   "execution_count": 27,
   "id": "4a3121d6",
   "metadata": {},
   "outputs": [],
   "source": [
    "df.to_pickle(\"ORMs_Sept2024.pkl\")"
   ]
  }
 ],
 "metadata": {
  "kernelspec": {
   "display_name": "Python 3",
   "language": "python",
   "name": "python3"
  },
  "language_info": {
   "codemirror_mode": {
    "name": "ipython",
    "version": 3
   },
   "file_extension": ".py",
   "mimetype": "text/x-python",
   "name": "python",
   "nbconvert_exporter": "python",
   "pygments_lexer": "ipython3",
   "version": "3.9.11"
  }
 },
 "nbformat": 4,
 "nbformat_minor": 5
}
